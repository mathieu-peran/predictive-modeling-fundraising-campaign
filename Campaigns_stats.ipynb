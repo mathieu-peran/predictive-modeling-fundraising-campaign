{
 "cells": [
  {
   "cell_type": "code",
   "execution_count": 32,
   "id": "4f61b330",
   "metadata": {},
   "outputs": [],
   "source": [
    "import pandas as pd\n",
    "import numpy as np\n",
    "from datetime import datetime\n",
    "import matplotlib.pyplot as plt\n",
    "import seaborn as sns\n",
    "from scipy.stats.mstats import winsorize\n",
    "from numpy import array\n",
    "pd.set_option('display.max_columns', None)\n",
    "\n",
    "import warnings\n",
    "warnings.filterwarnings('ignore', category=UserWarning)\n",
    "pd.options.display.float_format = '{:.2f}'.format"
   ]
  },
  {
   "cell_type": "code",
   "execution_count": 33,
   "id": "3c064d8f",
   "metadata": {},
   "outputs": [],
   "source": [
    "# Mathieu\n",
    "path = r'C:\\Users\\mperan\\OneDrive - IESEG\\Desktop\\DP Analysis\\Group Project\\Project data\\\\'"
   ]
  },
  {
   "cell_type": "code",
   "execution_count": 34,
   "id": "47573b00",
   "metadata": {},
   "outputs": [],
   "source": [
    "campaigns = pd.read_pickle('campaigns_cleaned.pkl')\n",
    "gifts = pd.read_pickle('gifts_cleaned.pkl')"
   ]
  },
  {
   "cell_type": "code",
   "execution_count": 35,
   "id": "cbad8e59",
   "metadata": {},
   "outputs": [
    {
     "name": "stdout",
     "output_type": "stream",
     "text": [
      "<class 'pandas.core.frame.DataFrame'>\n",
      "RangeIndex: 367 entries, 0 to 366\n",
      "Data columns (total 4 columns):\n",
      " #   Column       Non-Null Count  Dtype         \n",
      "---  ------       --------------  -----         \n",
      " 0   campaignID   367 non-null    object        \n",
      " 1   date         367 non-null    datetime64[ns]\n",
      " 2   lettersSent  367 non-null    int32         \n",
      " 3   CostUnit     367 non-null    float64       \n",
      "dtypes: datetime64[ns](1), float64(1), int32(1), object(1)\n",
      "memory usage: 10.2+ KB\n"
     ]
    }
   ],
   "source": [
    "campaigns.info()"
   ]
  },
  {
   "cell_type": "code",
   "execution_count": 36,
   "id": "81583c29",
   "metadata": {},
   "outputs": [],
   "source": [
    "from datetime import datetime, timedelta\n",
    "from dateutil.relativedelta import relativedelta\n",
    "\n",
    "# Define the time window for each dataset\n",
    "time_window = relativedelta(years=5)\n",
    "\n",
    "# Drop dates of campaigns\n",
    "drop_score = pd.to_datetime('2020-02-01')\n",
    "\n",
    "# Define the gap period: 2 weeks\n",
    "gap_period = timedelta(days=14)\n",
    "\n",
    "# Calculate the cutoff dates\n",
    "cutoff_date_score = drop_score - gap_period\n",
    "\n",
    "# Filter the datasets based on a fixed starting date: 5 years time window\n",
    "gifts_score_start_period = cutoff_date_score - time_window"
   ]
  },
  {
   "cell_type": "code",
   "execution_count": 37,
   "id": "44c9b5d3",
   "metadata": {},
   "outputs": [],
   "source": [
    "import pandas as pd\n",
    "\n",
    "# Assuming 'drop_date', 'total_letters_sent', 'cost_unit' are columns in the 'campaigns' table\n",
    "# Assuming 'campaignID', 'amount' are columns in the 'gifts' table\n",
    "\n",
    "# Step 1: Compute features from the 'campaigns' table\n",
    "cutoff_date_score = pd.to_datetime(cutoff_date_score)  \n",
    "\n",
    "# Filter campaigns within the 5-year time window before cutoff date_score\n",
    "campaigns_filtered = campaigns[(campaigns['date'] >= gifts_score_start_period) & (campaigns['date'] <= cutoff_date_score)]\n",
    "\n",
    "# Compute total_letters_sent and total_cost\n",
    "campaigns_aggregated = campaigns_filtered.groupby('campaignID').agg(\n",
    "    drop_date=('date', 'first'),\n",
    "    total_letters_sent=('lettersSent', 'sum')\n",
    ").reset_index()\n"
   ]
  },
  {
   "cell_type": "code",
   "execution_count": 38,
   "id": "0b8e302a",
   "metadata": {},
   "outputs": [],
   "source": [
    "# Merge with gifts to get additional information\n",
    "campaigns_with_gifts = pd.merge(\n",
    "    campaigns_aggregated,\n",
    "    gifts.groupby('campaignID').agg(\n",
    "        count_donations_over30=('amount', lambda x: (x >= 30).sum()),\n",
    "        sum_donations_over30=('amount', lambda x: x[x >= 30].sum()),\n",
    "        avg_donations_over30=('amount', lambda x: x[x >= 30].mean()),\n",
    "        avg_donation=('amount', 'mean'),\n",
    "        min_donation=('amount', 'min'),\n",
    "        max_donation=('amount', 'max'),\n",
    "        total_earnings=('amount', 'sum')\n",
    "    ).reset_index(),\n",
    "    how='left',\n",
    "    on='campaignID'\n",
    ")"
   ]
  },
  {
   "cell_type": "code",
   "execution_count": 39,
   "id": "db7ff78e",
   "metadata": {},
   "outputs": [],
   "source": [
    "campaigns_susbset = campaigns[['campaignID', 'CostUnit']]"
   ]
  },
  {
   "cell_type": "code",
   "execution_count": 40,
   "id": "fbc3a04b",
   "metadata": {},
   "outputs": [],
   "source": [
    "campaigns_with_gifts = pd.merge(campaigns_with_gifts, campaigns_susbset, on='campaignID', how='left')"
   ]
  },
  {
   "cell_type": "code",
   "execution_count": 41,
   "id": "8bdcee8d",
   "metadata": {},
   "outputs": [],
   "source": [
    "campaigns_with_gifts['total_cost'] =campaigns_with_gifts['total_letters_sent'] * campaigns_with_gifts['CostUnit']"
   ]
  },
  {
   "cell_type": "code",
   "execution_count": 42,
   "id": "3c4b260f",
   "metadata": {},
   "outputs": [],
   "source": [
    "campaigns_with_gifts['Profit'] = campaigns_with_gifts['total_earnings'] - campaigns_with_gifts['total_cost']"
   ]
  },
  {
   "cell_type": "code",
   "execution_count": 43,
   "id": "8077b27f",
   "metadata": {},
   "outputs": [],
   "source": [
    "campaigns_with_gifts['avg_response_rate_over30'] = campaigns_with_gifts['count_donations_over30'] / campaigns_with_gifts['total_letters_sent'] * 100"
   ]
  },
  {
   "cell_type": "code",
   "execution_count": 44,
   "id": "2f76be64",
   "metadata": {},
   "outputs": [
    {
     "data": {
      "text/html": [
       "<div>\n",
       "<style scoped>\n",
       "    .dataframe tbody tr th:only-of-type {\n",
       "        vertical-align: middle;\n",
       "    }\n",
       "\n",
       "    .dataframe tbody tr th {\n",
       "        vertical-align: top;\n",
       "    }\n",
       "\n",
       "    .dataframe thead th {\n",
       "        text-align: right;\n",
       "    }\n",
       "</style>\n",
       "<table border=\"1\" class=\"dataframe\">\n",
       "  <thead>\n",
       "    <tr style=\"text-align: right;\">\n",
       "      <th></th>\n",
       "      <th>total_letters_sent</th>\n",
       "      <th>count_donations_over30</th>\n",
       "      <th>sum_donations_over30</th>\n",
       "      <th>avg_donations_over30</th>\n",
       "      <th>avg_donation</th>\n",
       "      <th>min_donation</th>\n",
       "      <th>max_donation</th>\n",
       "      <th>total_earnings</th>\n",
       "      <th>CostUnit</th>\n",
       "      <th>total_cost</th>\n",
       "      <th>Profit</th>\n",
       "      <th>avg_response_rate_over30</th>\n",
       "    </tr>\n",
       "  </thead>\n",
       "  <tbody>\n",
       "    <tr>\n",
       "      <th>count</th>\n",
       "      <td>118.00</td>\n",
       "      <td>118.00</td>\n",
       "      <td>118.00</td>\n",
       "      <td>118.00</td>\n",
       "      <td>118.00</td>\n",
       "      <td>118.00</td>\n",
       "      <td>118.00</td>\n",
       "      <td>118.00</td>\n",
       "      <td>118.00</td>\n",
       "      <td>118.00</td>\n",
       "      <td>118.00</td>\n",
       "      <td>118.00</td>\n",
       "    </tr>\n",
       "    <tr>\n",
       "      <th>mean</th>\n",
       "      <td>20996.44</td>\n",
       "      <td>151.53</td>\n",
       "      <td>7348.66</td>\n",
       "      <td>48.39</td>\n",
       "      <td>32.65</td>\n",
       "      <td>6.13</td>\n",
       "      <td>255.54</td>\n",
       "      <td>8851.40</td>\n",
       "      <td>0.23</td>\n",
       "      <td>5290.52</td>\n",
       "      <td>3560.88</td>\n",
       "      <td>0.56</td>\n",
       "    </tr>\n",
       "    <tr>\n",
       "      <th>std</th>\n",
       "      <td>13085.60</td>\n",
       "      <td>212.41</td>\n",
       "      <td>11625.11</td>\n",
       "      <td>10.60</td>\n",
       "      <td>12.11</td>\n",
       "      <td>13.61</td>\n",
       "      <td>255.21</td>\n",
       "      <td>13694.96</td>\n",
       "      <td>0.16</td>\n",
       "      <td>6127.35</td>\n",
       "      <td>8926.94</td>\n",
       "      <td>0.50</td>\n",
       "    </tr>\n",
       "    <tr>\n",
       "      <th>min</th>\n",
       "      <td>5172.00</td>\n",
       "      <td>1.00</td>\n",
       "      <td>40.00</td>\n",
       "      <td>35.85</td>\n",
       "      <td>11.17</td>\n",
       "      <td>0.20</td>\n",
       "      <td>40.00</td>\n",
       "      <td>40.00</td>\n",
       "      <td>0.01</td>\n",
       "      <td>107.82</td>\n",
       "      <td>-7843.24</td>\n",
       "      <td>0.01</td>\n",
       "    </tr>\n",
       "    <tr>\n",
       "      <th>25%</th>\n",
       "      <td>7845.25</td>\n",
       "      <td>20.00</td>\n",
       "      <td>963.00</td>\n",
       "      <td>42.36</td>\n",
       "      <td>26.16</td>\n",
       "      <td>1.06</td>\n",
       "      <td>100.00</td>\n",
       "      <td>1193.45</td>\n",
       "      <td>0.11</td>\n",
       "      <td>1156.84</td>\n",
       "      <td>41.55</td>\n",
       "      <td>0.21</td>\n",
       "    </tr>\n",
       "    <tr>\n",
       "      <th>50%</th>\n",
       "      <td>21903.00</td>\n",
       "      <td>89.50</td>\n",
       "      <td>4535.55</td>\n",
       "      <td>46.16</td>\n",
       "      <td>29.84</td>\n",
       "      <td>2.25</td>\n",
       "      <td>200.00</td>\n",
       "      <td>5225.18</td>\n",
       "      <td>0.19</td>\n",
       "      <td>3467.31</td>\n",
       "      <td>999.14</td>\n",
       "      <td>0.42</td>\n",
       "    </tr>\n",
       "    <tr>\n",
       "      <th>75%</th>\n",
       "      <td>30902.25</td>\n",
       "      <td>205.00</td>\n",
       "      <td>9792.86</td>\n",
       "      <td>49.98</td>\n",
       "      <td>37.19</td>\n",
       "      <td>3.00</td>\n",
       "      <td>300.00</td>\n",
       "      <td>11397.86</td>\n",
       "      <td>0.31</td>\n",
       "      <td>7141.83</td>\n",
       "      <td>4566.64</td>\n",
       "      <td>0.81</td>\n",
       "    </tr>\n",
       "    <tr>\n",
       "      <th>max</th>\n",
       "      <td>69879.00</td>\n",
       "      <td>1676.00</td>\n",
       "      <td>95513.61</td>\n",
       "      <td>100.00</td>\n",
       "      <td>100.00</td>\n",
       "      <td>100.00</td>\n",
       "      <td>1430.61</td>\n",
       "      <td>98653.56</td>\n",
       "      <td>0.87</td>\n",
       "      <td>41927.40</td>\n",
       "      <td>68301.00</td>\n",
       "      <td>2.74</td>\n",
       "    </tr>\n",
       "  </tbody>\n",
       "</table>\n",
       "</div>"
      ],
      "text/plain": [
       "       total_letters_sent  count_donations_over30  sum_donations_over30  \\\n",
       "count              118.00                  118.00                118.00   \n",
       "mean             20996.44                  151.53               7348.66   \n",
       "std              13085.60                  212.41              11625.11   \n",
       "min               5172.00                    1.00                 40.00   \n",
       "25%               7845.25                   20.00                963.00   \n",
       "50%              21903.00                   89.50               4535.55   \n",
       "75%              30902.25                  205.00               9792.86   \n",
       "max              69879.00                 1676.00              95513.61   \n",
       "\n",
       "       avg_donations_over30  avg_donation  min_donation  max_donation  \\\n",
       "count                118.00        118.00        118.00        118.00   \n",
       "mean                  48.39         32.65          6.13        255.54   \n",
       "std                   10.60         12.11         13.61        255.21   \n",
       "min                   35.85         11.17          0.20         40.00   \n",
       "25%                   42.36         26.16          1.06        100.00   \n",
       "50%                   46.16         29.84          2.25        200.00   \n",
       "75%                   49.98         37.19          3.00        300.00   \n",
       "max                  100.00        100.00        100.00       1430.61   \n",
       "\n",
       "       total_earnings  CostUnit  total_cost   Profit  avg_response_rate_over30  \n",
       "count          118.00    118.00      118.00   118.00                    118.00  \n",
       "mean          8851.40      0.23     5290.52  3560.88                      0.56  \n",
       "std          13694.96      0.16     6127.35  8926.94                      0.50  \n",
       "min             40.00      0.01      107.82 -7843.24                      0.01  \n",
       "25%           1193.45      0.11     1156.84    41.55                      0.21  \n",
       "50%           5225.18      0.19     3467.31   999.14                      0.42  \n",
       "75%          11397.86      0.31     7141.83  4566.64                      0.81  \n",
       "max          98653.56      0.87    41927.40 68301.00                      2.74  "
      ]
     },
     "execution_count": 44,
     "metadata": {},
     "output_type": "execute_result"
    }
   ],
   "source": [
    "campaigns_with_gifts.describe()"
   ]
  },
  {
   "cell_type": "code",
   "execution_count": 46,
   "id": "8e893a2e",
   "metadata": {},
   "outputs": [
    {
     "data": {
      "text/plain": [
       "count   118.00\n",
       "mean      0.56\n",
       "std       0.50\n",
       "min       0.01\n",
       "25%       0.21\n",
       "50%       0.42\n",
       "75%       0.81\n",
       "max       2.74\n",
       "Name: avg_response_rate_over30, dtype: float64"
      ]
     },
     "execution_count": 46,
     "metadata": {},
     "output_type": "execute_result"
    }
   ],
   "source": [
    "campaigns_with_gifts['avg_response_rate_over30'].describe()"
   ]
  },
  {
   "cell_type": "code",
   "execution_count": 54,
   "id": "f5d468be",
   "metadata": {},
   "outputs": [],
   "source": [
    "# Calculate global totals and averages\n",
    "global_average_letters_sent = campaigns_with_gifts['total_letters_sent'].mean()\n",
    "global_average_gift_value_over30 = campaigns_with_gifts['sum_donations_over30'].sum() / campaigns_with_gifts['count_donations_over30'].sum()\n",
    "global_average_response_rate_over30 = campaigns_with_gifts['count_donations_over30'].sum() / campaigns_with_gifts['total_letters_sent'].sum() * 100\n",
    "global_average_cost = campaigns_with_gifts['total_cost'].sum() / len(campaigns_with_gifts['total_cost'])\n",
    "global_average_revenue = campaigns_with_gifts['avg_donation'].mean()\n",
    "global_total_cost = campaigns_with_gifts['total_cost'].sum()\n",
    "global_total_revenue_over30 = campaigns_with_gifts['sum_donations_over30'].sum() - campaigns_with_gifts['total_cost'].sum()\n",
    "global_total_revenue = campaigns_with_gifts['total_earnings'].sum()\n",
    "global_total_profit = campaigns_with_gifts['Profit'].sum()\n",
    "global_average_profit = campaigns_with_gifts['Profit'].mean()\n",
    "global_average_profit_over30 = campaigns_with_gifts['Profit'].mean()\n",
    "\n",
    "# Create a summary DataFrame for global totals and averages\n",
    "global_summary_df = pd.DataFrame({\n",
    "    'global_avg_letters_sent' : global_average_letters_sent,\n",
    "    'global_avg_gift_value_over30': global_average_gift_value_over30,\n",
    "    'global_average_response_rate_over30': global_average_response_rate_over30,\n",
    "    'global_average_cost': global_average_cost,\n",
    "    'global_average_revenue': global_average_revenue,\n",
    "    'global_total_cost': global_total_cost,\n",
    "    'global_total_revenue': global_total_revenue,\n",
    "    'global_total_revenue_over30': global_total_revenue_over30,\n",
    "    'global_total_profit': global_total_profit,\n",
    "    'global_average_profit': global_average_profit,\n",
    "    'global_average_profit_over30': global_average_profit_over30\n",
    "}, index=[0])  # Creating a DataFrame with a single row\n",
    "\n",
    "# Export the global summary DataFrame to a CSV file\n",
    "global_summary_df.to_csv('global_campaigns_summary.csv', index=False)"
   ]
  },
  {
   "cell_type": "code",
   "execution_count": 55,
   "id": "78815a01",
   "metadata": {},
   "outputs": [
    {
     "data": {
      "text/html": [
       "<div>\n",
       "<style scoped>\n",
       "    .dataframe tbody tr th:only-of-type {\n",
       "        vertical-align: middle;\n",
       "    }\n",
       "\n",
       "    .dataframe tbody tr th {\n",
       "        vertical-align: top;\n",
       "    }\n",
       "\n",
       "    .dataframe thead th {\n",
       "        text-align: right;\n",
       "    }\n",
       "</style>\n",
       "<table border=\"1\" class=\"dataframe\">\n",
       "  <thead>\n",
       "    <tr style=\"text-align: right;\">\n",
       "      <th></th>\n",
       "      <th>global_avg_letters_sent</th>\n",
       "      <th>global_avg_gift_value_over30</th>\n",
       "      <th>global_average_response_rate_over30</th>\n",
       "      <th>global_average_cost</th>\n",
       "      <th>global_average_revenue</th>\n",
       "      <th>global_total_cost</th>\n",
       "      <th>global_total_revenue</th>\n",
       "      <th>global_total_revenue_over30</th>\n",
       "      <th>global_total_profit</th>\n",
       "      <th>global_average_profit</th>\n",
       "      <th>global_average_profit_over30</th>\n",
       "    </tr>\n",
       "  </thead>\n",
       "  <tbody>\n",
       "    <tr>\n",
       "      <th>0</th>\n",
       "      <td>20996.44</td>\n",
       "      <td>48.50</td>\n",
       "      <td>0.72</td>\n",
       "      <td>5290.52</td>\n",
       "      <td>32.65</td>\n",
       "      <td>624281.50</td>\n",
       "      <td>1044465.19</td>\n",
       "      <td>242859.91</td>\n",
       "      <td>420183.69</td>\n",
       "      <td>3560.88</td>\n",
       "      <td>3560.88</td>\n",
       "    </tr>\n",
       "  </tbody>\n",
       "</table>\n",
       "</div>"
      ],
      "text/plain": [
       "   global_avg_letters_sent  global_avg_gift_value_over30  \\\n",
       "0                 20996.44                         48.50   \n",
       "\n",
       "   global_average_response_rate_over30  global_average_cost  \\\n",
       "0                                 0.72              5290.52   \n",
       "\n",
       "   global_average_revenue  global_total_cost  global_total_revenue  \\\n",
       "0                   32.65          624281.50            1044465.19   \n",
       "\n",
       "   global_total_revenue_over30  global_total_profit  global_average_profit  \\\n",
       "0                    242859.91            420183.69                3560.88   \n",
       "\n",
       "   global_average_profit_over30  \n",
       "0                       3560.88  "
      ]
     },
     "execution_count": 55,
     "metadata": {},
     "output_type": "execute_result"
    }
   ],
   "source": [
    "global_summary_df"
   ]
  },
  {
   "cell_type": "code",
   "execution_count": 19,
   "id": "22fe1bb4",
   "metadata": {},
   "outputs": [
    {
     "data": {
      "text/plain": [
       "4243.2"
      ]
     },
     "execution_count": 19,
     "metadata": {},
     "output_type": "execute_result"
    }
   ],
   "source": [
    "0.8*5304"
   ]
  },
  {
   "cell_type": "code",
   "execution_count": 23,
   "id": "1c455321",
   "metadata": {},
   "outputs": [
    {
     "data": {
      "text/plain": [
       "132.6"
      ]
     },
     "execution_count": 23,
     "metadata": {},
     "output_type": "execute_result"
    }
   ],
   "source": [
    "5304*0.025"
   ]
  },
  {
   "cell_type": "code",
   "execution_count": 28,
   "id": "998fa3ec",
   "metadata": {},
   "outputs": [
    {
     "data": {
      "text/plain": [
       "6402.0"
      ]
     },
     "execution_count": 28,
     "metadata": {},
     "output_type": "execute_result"
    }
   ],
   "source": [
    "132*48.5 "
   ]
  },
  {
   "cell_type": "code",
   "execution_count": 17,
   "id": "b5c2de68",
   "metadata": {},
   "outputs": [],
   "source": [
    "# Export the result DataFrames to CSV files\n",
    "global_summary_df.to_csv('campaigns_summary.csv', index=False)\n",
    "campaigns_with_gifts.to_csv('campaigns_with_gifts.csv', index=False)"
   ]
  }
 ],
 "metadata": {
  "kernelspec": {
   "display_name": "Python 3 (ipykernel)",
   "language": "python",
   "name": "python3"
  },
  "language_info": {
   "codemirror_mode": {
    "name": "ipython",
    "version": 3
   },
   "file_extension": ".py",
   "mimetype": "text/x-python",
   "name": "python",
   "nbconvert_exporter": "python",
   "pygments_lexer": "ipython3",
   "version": "3.11.4"
  }
 },
 "nbformat": 4,
 "nbformat_minor": 5
}
