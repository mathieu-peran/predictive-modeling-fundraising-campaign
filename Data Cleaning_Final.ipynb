{
 "cells": [
  {
   "cell_type": "markdown",
   "id": "0a63d423",
   "metadata": {},
   "source": [
    "## Import Libraries"
   ]
  },
  {
   "cell_type": "code",
   "execution_count": 5,
   "id": "fd9f538c",
   "metadata": {},
   "outputs": [],
   "source": [
    "import pandas as pd\n",
    "import numpy as np\n",
    "from datetime import datetime\n",
    "import matplotlib.pyplot as plt\n",
    "import seaborn as sns\n",
    "from scipy.stats.mstats import winsorize\n",
    "from numpy import array\n",
    "pd.set_option('display.max_columns', None)\n",
    "\n",
    "import warnings\n",
    "warnings.filterwarnings('ignore', category=UserWarning)"
   ]
  },
  {
   "cell_type": "markdown",
   "id": "efdae2c1",
   "metadata": {},
   "source": [
    "## Download Files"
   ]
  },
  {
   "cell_type": "code",
   "execution_count": 6,
   "id": "9fb18e6d",
   "metadata": {},
   "outputs": [],
   "source": [
    "# # # Quinn\n",
    "# path = 'C:\\\\Users\\\\Source\\\\Documents\\\\Descriptive and Predictive Analytics\\\\Group Project\\\\Project data\\\\'"
   ]
  },
  {
   "cell_type": "code",
   "execution_count": 7,
   "id": "ffa6a759",
   "metadata": {},
   "outputs": [],
   "source": [
    "# Leo\n",
    "# path =''"
   ]
  },
  {
   "cell_type": "code",
   "execution_count": 8,
   "id": "6792a4fc",
   "metadata": {},
   "outputs": [],
   "source": [
    "# Mathieu\n",
    "path = r'C:\\Users\\mperan\\OneDrive - IESEG\\Desktop\\DP Analysis\\Group Project\\DSC_Project_Group2\\Project data\\\\'"
   ]
  },
  {
   "cell_type": "code",
   "execution_count": 9,
   "id": "af95ce18",
   "metadata": {},
   "outputs": [],
   "source": [
    "donors = pd.read_csv(path+'donors.csv', dtype={'zipcode': str})\n",
    "campaigns = pd.read_csv(path+'campaigns.csv', sep=\";\", dtype={'campaignID': str})\n",
    "gifts = pd.read_csv(path+'gifts.csv', dtype={'campaignID': str})\n",
    "selection_campaign_6169 = pd.read_csv(path+'selection campaign 6169.csv')\n",
    "selection_campaign_7244 = pd.read_csv(path+'selection campaign 7244.csv')"
   ]
  },
  {
   "cell_type": "markdown",
   "id": "b0bf0cee",
   "metadata": {},
   "source": [
    "# Data Cleaning"
   ]
  },
  {
   "cell_type": "markdown",
   "id": "9a97bcb1",
   "metadata": {},
   "source": [
    "# Campaigns"
   ]
  },
  {
   "cell_type": "code",
   "execution_count": 10,
   "id": "c6c9de74",
   "metadata": {},
   "outputs": [
    {
     "name": "stdout",
     "output_type": "stream",
     "text": [
      "<class 'pandas.core.frame.DataFrame'>\n",
      "RangeIndex: 367 entries, 0 to 366\n",
      "Data columns (total 4 columns):\n",
      " #   Column       Non-Null Count  Dtype \n",
      "---  ------       --------------  ----- \n",
      " 0   campaignID   367 non-null    object\n",
      " 1   date         367 non-null    object\n",
      " 2   lettersSent  367 non-null    object\n",
      " 3   CostUnit     367 non-null    object\n",
      "dtypes: object(4)\n",
      "memory usage: 11.6+ KB\n"
     ]
    }
   ],
   "source": [
    "campaigns.info()"
   ]
  },
  {
   "cell_type": "code",
   "execution_count": 11,
   "id": "8ee0c466",
   "metadata": {},
   "outputs": [
    {
     "data": {
      "text/html": [
       "<div>\n",
       "<style scoped>\n",
       "    .dataframe tbody tr th:only-of-type {\n",
       "        vertical-align: middle;\n",
       "    }\n",
       "\n",
       "    .dataframe tbody tr th {\n",
       "        vertical-align: top;\n",
       "    }\n",
       "\n",
       "    .dataframe thead th {\n",
       "        text-align: right;\n",
       "    }\n",
       "</style>\n",
       "<table border=\"1\" class=\"dataframe\">\n",
       "  <thead>\n",
       "    <tr style=\"text-align: right;\">\n",
       "      <th></th>\n",
       "      <th>campaignID</th>\n",
       "      <th>date</th>\n",
       "      <th>lettersSent</th>\n",
       "      <th>CostUnit</th>\n",
       "    </tr>\n",
       "  </thead>\n",
       "  <tbody>\n",
       "    <tr>\n",
       "      <th>0</th>\n",
       "      <td>153</td>\n",
       "      <td>13/12/2004</td>\n",
       "      <td>6 873</td>\n",
       "      <td>0,17 €</td>\n",
       "    </tr>\n",
       "    <tr>\n",
       "      <th>1</th>\n",
       "      <td>154</td>\n",
       "      <td>01/01/2005</td>\n",
       "      <td>7 656</td>\n",
       "      <td>0,30 €</td>\n",
       "    </tr>\n",
       "    <tr>\n",
       "      <th>2</th>\n",
       "      <td>180</td>\n",
       "      <td>18/01/2005</td>\n",
       "      <td>9 933</td>\n",
       "      <td>0,20 €</td>\n",
       "    </tr>\n",
       "    <tr>\n",
       "      <th>3</th>\n",
       "      <td>433</td>\n",
       "      <td>29/01/2005</td>\n",
       "      <td>7 448</td>\n",
       "      <td>0,59 €</td>\n",
       "    </tr>\n",
       "    <tr>\n",
       "      <th>4</th>\n",
       "      <td>476</td>\n",
       "      <td>12/02/2005</td>\n",
       "      <td>6 605</td>\n",
       "      <td>0,51 €</td>\n",
       "    </tr>\n",
       "  </tbody>\n",
       "</table>\n",
       "</div>"
      ],
      "text/plain": [
       "  campaignID        date lettersSent CostUnit\n",
       "0        153  13/12/2004       6 873   0,17 €\n",
       "1        154  01/01/2005       7 656   0,30 €\n",
       "2        180  18/01/2005       9 933   0,20 €\n",
       "3        433  29/01/2005       7 448   0,59 €\n",
       "4        476  12/02/2005       6 605   0,51 €"
      ]
     },
     "execution_count": 11,
     "metadata": {},
     "output_type": "execute_result"
    }
   ],
   "source": [
    "campaigns.head()"
   ]
  },
  {
   "cell_type": "code",
   "execution_count": 12,
   "id": "3cc42318",
   "metadata": {},
   "outputs": [],
   "source": [
    "campaigns['lettersSent'] = campaigns['lettersSent'].str.replace('\\u202f', '').astype(int)"
   ]
  },
  {
   "cell_type": "code",
   "execution_count": 13,
   "id": "9ddb0147",
   "metadata": {},
   "outputs": [],
   "source": [
    "campaigns['CostUnit'] = campaigns['CostUnit'].str.replace('€', '').str.replace('\\xa0', '')\n",
    "campaigns['CostUnit'] = campaigns['CostUnit'].str.replace(',', '.')\n",
    "campaigns['CostUnit'] = campaigns['CostUnit'].astype(float)"
   ]
  },
  {
   "cell_type": "code",
   "execution_count": 14,
   "id": "ee98b83c",
   "metadata": {},
   "outputs": [],
   "source": [
    "campaigns = campaigns.astype({'date': 'datetime64[ns]', 'lettersSent': 'int'})"
   ]
  },
  {
   "cell_type": "code",
   "execution_count": 15,
   "id": "d96cf32a",
   "metadata": {},
   "outputs": [
    {
     "data": {
      "text/plain": [
       "campaignID     0.0\n",
       "date           0.0\n",
       "lettersSent    0.0\n",
       "CostUnit       0.0\n",
       "dtype: float64"
      ]
     },
     "execution_count": 15,
     "metadata": {},
     "output_type": "execute_result"
    }
   ],
   "source": [
    "campaigns.isnull().sum()/len(campaigns)"
   ]
  },
  {
   "cell_type": "code",
   "execution_count": 16,
   "id": "752986c6",
   "metadata": {},
   "outputs": [
    {
     "data": {
      "text/plain": [
       "campaignID             object\n",
       "date           datetime64[ns]\n",
       "lettersSent             int32\n",
       "CostUnit              float64\n",
       "dtype: object"
      ]
     },
     "execution_count": 16,
     "metadata": {},
     "output_type": "execute_result"
    }
   ],
   "source": [
    "campaigns.dtypes"
   ]
  },
  {
   "cell_type": "code",
   "execution_count": 17,
   "id": "471bf64f",
   "metadata": {},
   "outputs": [
    {
     "data": {
      "text/html": [
       "<div>\n",
       "<style scoped>\n",
       "    .dataframe tbody tr th:only-of-type {\n",
       "        vertical-align: middle;\n",
       "    }\n",
       "\n",
       "    .dataframe tbody tr th {\n",
       "        vertical-align: top;\n",
       "    }\n",
       "\n",
       "    .dataframe thead th {\n",
       "        text-align: right;\n",
       "    }\n",
       "</style>\n",
       "<table border=\"1\" class=\"dataframe\">\n",
       "  <thead>\n",
       "    <tr style=\"text-align: right;\">\n",
       "      <th></th>\n",
       "      <th>campaignID</th>\n",
       "      <th>date</th>\n",
       "      <th>lettersSent</th>\n",
       "      <th>CostUnit</th>\n",
       "    </tr>\n",
       "  </thead>\n",
       "  <tbody>\n",
       "    <tr>\n",
       "      <th>0</th>\n",
       "      <td>153</td>\n",
       "      <td>2004-12-13</td>\n",
       "      <td>6873</td>\n",
       "      <td>0.17</td>\n",
       "    </tr>\n",
       "    <tr>\n",
       "      <th>1</th>\n",
       "      <td>154</td>\n",
       "      <td>2005-01-01</td>\n",
       "      <td>7656</td>\n",
       "      <td>0.30</td>\n",
       "    </tr>\n",
       "    <tr>\n",
       "      <th>2</th>\n",
       "      <td>180</td>\n",
       "      <td>2005-01-18</td>\n",
       "      <td>9933</td>\n",
       "      <td>0.20</td>\n",
       "    </tr>\n",
       "    <tr>\n",
       "      <th>3</th>\n",
       "      <td>433</td>\n",
       "      <td>2005-01-29</td>\n",
       "      <td>7448</td>\n",
       "      <td>0.59</td>\n",
       "    </tr>\n",
       "    <tr>\n",
       "      <th>4</th>\n",
       "      <td>476</td>\n",
       "      <td>2005-12-02</td>\n",
       "      <td>6605</td>\n",
       "      <td>0.51</td>\n",
       "    </tr>\n",
       "  </tbody>\n",
       "</table>\n",
       "</div>"
      ],
      "text/plain": [
       "  campaignID       date  lettersSent  CostUnit\n",
       "0        153 2004-12-13         6873      0.17\n",
       "1        154 2005-01-01         7656      0.30\n",
       "2        180 2005-01-18         9933      0.20\n",
       "3        433 2005-01-29         7448      0.59\n",
       "4        476 2005-12-02         6605      0.51"
      ]
     },
     "execution_count": 17,
     "metadata": {},
     "output_type": "execute_result"
    }
   ],
   "source": [
    "campaigns.head()"
   ]
  },
  {
   "cell_type": "markdown",
   "id": "08c78d7c",
   "metadata": {},
   "source": [
    "# Donors"
   ]
  },
  {
   "cell_type": "code",
   "execution_count": 18,
   "id": "f3346343",
   "metadata": {},
   "outputs": [
    {
     "name": "stdout",
     "output_type": "stream",
     "text": [
      "<class 'pandas.core.frame.DataFrame'>\n",
      "RangeIndex: 44691 entries, 0 to 44690\n",
      "Data columns (total 7 columns):\n",
      " #   Column       Non-Null Count  Dtype \n",
      "---  ------       --------------  ----- \n",
      " 0   donorID      44691 non-null  object\n",
      " 1   zipcode      44689 non-null  object\n",
      " 2   province     44691 non-null  object\n",
      " 3   region       44691 non-null  object\n",
      " 4   gender       44659 non-null  object\n",
      " 5   language     44691 non-null  object\n",
      " 6   dateOfBirth  44691 non-null  object\n",
      "dtypes: object(7)\n",
      "memory usage: 2.4+ MB\n"
     ]
    }
   ],
   "source": [
    "donors.info()"
   ]
  },
  {
   "cell_type": "code",
   "execution_count": 19,
   "id": "e1cfeb82",
   "metadata": {},
   "outputs": [
    {
     "data": {
      "text/html": [
       "<div>\n",
       "<style scoped>\n",
       "    .dataframe tbody tr th:only-of-type {\n",
       "        vertical-align: middle;\n",
       "    }\n",
       "\n",
       "    .dataframe tbody tr th {\n",
       "        vertical-align: top;\n",
       "    }\n",
       "\n",
       "    .dataframe thead th {\n",
       "        text-align: right;\n",
       "    }\n",
       "</style>\n",
       "<table border=\"1\" class=\"dataframe\">\n",
       "  <thead>\n",
       "    <tr style=\"text-align: right;\">\n",
       "      <th></th>\n",
       "      <th>donorID</th>\n",
       "      <th>zipcode</th>\n",
       "      <th>province</th>\n",
       "      <th>region</th>\n",
       "      <th>gender</th>\n",
       "      <th>language</th>\n",
       "      <th>dateOfBirth</th>\n",
       "    </tr>\n",
       "  </thead>\n",
       "  <tbody>\n",
       "    <tr>\n",
       "      <th>0</th>\n",
       "      <td>D100001</td>\n",
       "      <td>1861</td>\n",
       "      <td>Flemish Brabant</td>\n",
       "      <td>Flanders</td>\n",
       "      <td>F</td>\n",
       "      <td>NL</td>\n",
       "      <td>12/24/1967</td>\n",
       "    </tr>\n",
       "    <tr>\n",
       "      <th>1</th>\n",
       "      <td>D100002</td>\n",
       "      <td>2260</td>\n",
       "      <td>Antwerp</td>\n",
       "      <td>Flanders</td>\n",
       "      <td>M</td>\n",
       "      <td>NL</td>\n",
       "      <td>01/14/1952</td>\n",
       "    </tr>\n",
       "    <tr>\n",
       "      <th>2</th>\n",
       "      <td>D100003</td>\n",
       "      <td>1780</td>\n",
       "      <td>Flemish Brabant</td>\n",
       "      <td>Flanders</td>\n",
       "      <td>M</td>\n",
       "      <td>NL</td>\n",
       "      <td>12/23/1986</td>\n",
       "    </tr>\n",
       "    <tr>\n",
       "      <th>3</th>\n",
       "      <td>D100004</td>\n",
       "      <td>1020</td>\n",
       "      <td>Brussels</td>\n",
       "      <td>Brussels</td>\n",
       "      <td>F</td>\n",
       "      <td>FR</td>\n",
       "      <td>03/29/1952</td>\n",
       "    </tr>\n",
       "    <tr>\n",
       "      <th>4</th>\n",
       "      <td>D100005</td>\n",
       "      <td>1020</td>\n",
       "      <td>Brussels</td>\n",
       "      <td>Brussels</td>\n",
       "      <td>F</td>\n",
       "      <td>FR</td>\n",
       "      <td>06/25/1986</td>\n",
       "    </tr>\n",
       "  </tbody>\n",
       "</table>\n",
       "</div>"
      ],
      "text/plain": [
       "   donorID zipcode         province    region gender language dateOfBirth\n",
       "0  D100001    1861  Flemish Brabant  Flanders      F       NL  12/24/1967\n",
       "1  D100002    2260          Antwerp  Flanders      M       NL  01/14/1952\n",
       "2  D100003    1780  Flemish Brabant  Flanders      M       NL  12/23/1986\n",
       "3  D100004    1020         Brussels  Brussels      F       FR  03/29/1952\n",
       "4  D100005    1020         Brussels  Brussels      F       FR  06/25/1986"
      ]
     },
     "execution_count": 19,
     "metadata": {},
     "output_type": "execute_result"
    }
   ],
   "source": [
    "donors.head()"
   ]
  },
  {
   "cell_type": "code",
   "execution_count": 20,
   "id": "0c39dcf9",
   "metadata": {},
   "outputs": [],
   "source": [
    "donors = donors.astype({'dateOfBirth' : 'datetime64[ns]'})"
   ]
  },
  {
   "cell_type": "code",
   "execution_count": 21,
   "id": "44bc1c0d",
   "metadata": {},
   "outputs": [
    {
     "data": {
      "text/plain": [
       "M    57.750957\n",
       "F    42.249043\n",
       "Name: gender, dtype: float64"
      ]
     },
     "execution_count": 21,
     "metadata": {},
     "output_type": "execute_result"
    }
   ],
   "source": [
    "donors['gender'].value_counts(normalize=True) * 100"
   ]
  },
  {
   "cell_type": "code",
   "execution_count": 22,
   "id": "bca19b72",
   "metadata": {},
   "outputs": [],
   "source": [
    "donors['gender'] = donors['gender'].fillna('M')\n",
    "donors['zipcode'] = donors['zipcode'].fillna(0) "
   ]
  },
  {
   "cell_type": "code",
   "execution_count": 23,
   "id": "bd41c830",
   "metadata": {},
   "outputs": [
    {
     "data": {
      "text/plain": [
       "donorID        0\n",
       "zipcode        0\n",
       "province       0\n",
       "region         0\n",
       "gender         0\n",
       "language       0\n",
       "dateOfBirth    0\n",
       "dtype: int64"
      ]
     },
     "execution_count": 23,
     "metadata": {},
     "output_type": "execute_result"
    }
   ],
   "source": [
    "donors.isnull().sum()"
   ]
  },
  {
   "cell_type": "code",
   "execution_count": 24,
   "id": "b924b81a",
   "metadata": {},
   "outputs": [],
   "source": [
    "def lowercase_except_first(value):\n",
    "    return value[0] + value[1:].lower()\n",
    "\n",
    "# Apply the function to the specified column\n",
    "donors['province'] = donors['province'].apply(lowercase_except_first)"
   ]
  },
  {
   "cell_type": "code",
   "execution_count": 25,
   "id": "2c0e4a28",
   "metadata": {},
   "outputs": [
    {
     "data": {
      "text/plain": [
       "NL    89.644447\n",
       "FR    10.342127\n",
       "EN     0.013426\n",
       "Name: language, dtype: float64"
      ]
     },
     "execution_count": 25,
     "metadata": {},
     "output_type": "execute_result"
    }
   ],
   "source": [
    "# Could potential drop after feature engineering\n",
    "donors['language'].value_counts(normalize=True) * 100"
   ]
  },
  {
   "cell_type": "code",
   "execution_count": 26,
   "id": "4fa2d80e",
   "metadata": {},
   "outputs": [
    {
     "data": {
      "text/plain": [
       "Antwerp            23.382784\n",
       "East flanders      20.444832\n",
       "West flanders      20.057730\n",
       "Flemish brabant    15.173077\n",
       "Limburg            10.780694\n",
       "Brussels            3.329529\n",
       "Liege               2.170459\n",
       "Hainaut             2.112282\n",
       "Walloon brabant     0.968875\n",
       "Namur               0.897272\n",
       "Luxembourg          0.677989\n",
       "Missing             0.004475\n",
       "Name: province, dtype: float64"
      ]
     },
     "execution_count": 26,
     "metadata": {},
     "output_type": "execute_result"
    }
   ],
   "source": [
    "donors['province'].value_counts(normalize=True) * 100"
   ]
  },
  {
   "cell_type": "code",
   "execution_count": 27,
   "id": "37d0e72d",
   "metadata": {},
   "outputs": [],
   "source": [
    "# Combine everything with less than 10% to other\n",
    "percentage = donors['province'].value_counts(normalize=True) * 100\n",
    "\n",
    "# Find provinces that make up less than 10% of the dataset\n",
    "small_provinces = percentage[percentage < 10].index.tolist()\n",
    "\n",
    "# Replace 'province' values that are under 10% with 'Other'\n",
    "donors['province'] = donors['province'].apply(lambda x: 'Other' if x in small_provinces else x)"
   ]
  },
  {
   "cell_type": "code",
   "execution_count": 28,
   "id": "8993fc89",
   "metadata": {},
   "outputs": [],
   "source": [
    "donors['dateOfBirth'] = pd.to_datetime(donors['dateOfBirth'])\n",
    "donors['Age'] = (datetime.now() - donors['dateOfBirth']).dt.days // 365"
   ]
  },
  {
   "cell_type": "code",
   "execution_count": 29,
   "id": "33d0f88b",
   "metadata": {},
   "outputs": [
    {
     "name": "stdout",
     "output_type": "stream",
     "text": [
      "Are there any duplicate rows? False\n"
     ]
    }
   ],
   "source": [
    "duplicates = donors.duplicated()\n",
    "\n",
    "# To see if there are any duplicates in the DataFrame\n",
    "any_duplicates = duplicates.any()\n",
    "print(f\"Are there any duplicate rows? {any_duplicates}\")\n",
    "\n",
    "if any_duplicates:\n",
    "    print(donors[duplicates])"
   ]
  },
  {
   "cell_type": "code",
   "execution_count": 30,
   "id": "e6145ccb",
   "metadata": {},
   "outputs": [
    {
     "name": "stdout",
     "output_type": "stream",
     "text": [
      "<class 'pandas.core.frame.DataFrame'>\n",
      "RangeIndex: 44691 entries, 0 to 44690\n",
      "Data columns (total 8 columns):\n",
      " #   Column       Non-Null Count  Dtype         \n",
      "---  ------       --------------  -----         \n",
      " 0   donorID      44691 non-null  object        \n",
      " 1   zipcode      44691 non-null  object        \n",
      " 2   province     44691 non-null  object        \n",
      " 3   region       44691 non-null  object        \n",
      " 4   gender       44691 non-null  object        \n",
      " 5   language     44691 non-null  object        \n",
      " 6   dateOfBirth  44691 non-null  datetime64[ns]\n",
      " 7   Age          44691 non-null  int64         \n",
      "dtypes: datetime64[ns](1), int64(1), object(6)\n",
      "memory usage: 2.7+ MB\n"
     ]
    }
   ],
   "source": [
    "donors.info()"
   ]
  },
  {
   "cell_type": "code",
   "execution_count": 31,
   "id": "0e4f5ddb",
   "metadata": {},
   "outputs": [
    {
     "data": {
      "text/plain": [
       "donorID        0.0\n",
       "zipcode        0.0\n",
       "province       0.0\n",
       "region         0.0\n",
       "gender         0.0\n",
       "language       0.0\n",
       "dateOfBirth    0.0\n",
       "Age            0.0\n",
       "dtype: float64"
      ]
     },
     "execution_count": 31,
     "metadata": {},
     "output_type": "execute_result"
    }
   ],
   "source": [
    "donors.isnull().sum()/len(donors)"
   ]
  },
  {
   "cell_type": "code",
   "execution_count": 32,
   "id": "087a0f9f",
   "metadata": {},
   "outputs": [
    {
     "data": {
      "text/html": [
       "<div>\n",
       "<style scoped>\n",
       "    .dataframe tbody tr th:only-of-type {\n",
       "        vertical-align: middle;\n",
       "    }\n",
       "\n",
       "    .dataframe tbody tr th {\n",
       "        vertical-align: top;\n",
       "    }\n",
       "\n",
       "    .dataframe thead th {\n",
       "        text-align: right;\n",
       "    }\n",
       "</style>\n",
       "<table border=\"1\" class=\"dataframe\">\n",
       "  <thead>\n",
       "    <tr style=\"text-align: right;\">\n",
       "      <th></th>\n",
       "      <th>donorID</th>\n",
       "      <th>zipcode</th>\n",
       "      <th>province</th>\n",
       "      <th>region</th>\n",
       "      <th>gender</th>\n",
       "      <th>language</th>\n",
       "      <th>dateOfBirth</th>\n",
       "      <th>Age</th>\n",
       "    </tr>\n",
       "  </thead>\n",
       "  <tbody>\n",
       "    <tr>\n",
       "      <th>0</th>\n",
       "      <td>D100001</td>\n",
       "      <td>1861</td>\n",
       "      <td>Flemish brabant</td>\n",
       "      <td>Flanders</td>\n",
       "      <td>F</td>\n",
       "      <td>NL</td>\n",
       "      <td>1967-12-24</td>\n",
       "      <td>55</td>\n",
       "    </tr>\n",
       "    <tr>\n",
       "      <th>1</th>\n",
       "      <td>D100002</td>\n",
       "      <td>2260</td>\n",
       "      <td>Antwerp</td>\n",
       "      <td>Flanders</td>\n",
       "      <td>M</td>\n",
       "      <td>NL</td>\n",
       "      <td>1952-01-14</td>\n",
       "      <td>71</td>\n",
       "    </tr>\n",
       "    <tr>\n",
       "      <th>2</th>\n",
       "      <td>D100003</td>\n",
       "      <td>1780</td>\n",
       "      <td>Flemish brabant</td>\n",
       "      <td>Flanders</td>\n",
       "      <td>M</td>\n",
       "      <td>NL</td>\n",
       "      <td>1986-12-23</td>\n",
       "      <td>36</td>\n",
       "    </tr>\n",
       "    <tr>\n",
       "      <th>3</th>\n",
       "      <td>D100004</td>\n",
       "      <td>1020</td>\n",
       "      <td>Other</td>\n",
       "      <td>Brussels</td>\n",
       "      <td>F</td>\n",
       "      <td>FR</td>\n",
       "      <td>1952-03-29</td>\n",
       "      <td>71</td>\n",
       "    </tr>\n",
       "    <tr>\n",
       "      <th>4</th>\n",
       "      <td>D100005</td>\n",
       "      <td>1020</td>\n",
       "      <td>Other</td>\n",
       "      <td>Brussels</td>\n",
       "      <td>F</td>\n",
       "      <td>FR</td>\n",
       "      <td>1986-06-25</td>\n",
       "      <td>37</td>\n",
       "    </tr>\n",
       "  </tbody>\n",
       "</table>\n",
       "</div>"
      ],
      "text/plain": [
       "   donorID zipcode         province    region gender language dateOfBirth  Age\n",
       "0  D100001    1861  Flemish brabant  Flanders      F       NL  1967-12-24   55\n",
       "1  D100002    2260          Antwerp  Flanders      M       NL  1952-01-14   71\n",
       "2  D100003    1780  Flemish brabant  Flanders      M       NL  1986-12-23   36\n",
       "3  D100004    1020            Other  Brussels      F       FR  1952-03-29   71\n",
       "4  D100005    1020            Other  Brussels      F       FR  1986-06-25   37"
      ]
     },
     "execution_count": 32,
     "metadata": {},
     "output_type": "execute_result"
    }
   ],
   "source": [
    "donors.head()"
   ]
  },
  {
   "cell_type": "markdown",
   "id": "74239004",
   "metadata": {},
   "source": [
    "# Gifts"
   ]
  },
  {
   "cell_type": "code",
   "execution_count": 67,
   "id": "b7a3ef8b",
   "metadata": {},
   "outputs": [
    {
     "ename": "TypeError",
     "evalue": "'numpy.int32' object is not callable",
     "output_type": "error",
     "traceback": [
      "\u001b[1;31m---------------------------------------------------------------------------\u001b[0m",
      "\u001b[1;31mTypeError\u001b[0m                                 Traceback (most recent call last)",
      "Cell \u001b[1;32mIn[67], line 1\u001b[0m\n\u001b[1;32m----> 1\u001b[0m gifts[gifts[\u001b[38;5;124m'\u001b[39m\u001b[38;5;124mdonorID\u001b[39m\u001b[38;5;124m'\u001b[39m]\u001b[38;5;241m==\u001b[39m\u001b[38;5;124m'\u001b[39m\u001b[38;5;124mD100001\u001b[39m\u001b[38;5;124m'\u001b[39m]\u001b[38;5;241m.\u001b[39msize()\n",
      "\u001b[1;31mTypeError\u001b[0m: 'numpy.int32' object is not callable"
     ]
    }
   ],
   "source": [
    "gifts[gifts['donorID']=='D100001'].size()"
   ]
  },
  {
   "cell_type": "code",
   "execution_count": 33,
   "id": "f046ee87",
   "metadata": {},
   "outputs": [
    {
     "data": {
      "text/html": [
       "<div>\n",
       "<style scoped>\n",
       "    .dataframe tbody tr th:only-of-type {\n",
       "        vertical-align: middle;\n",
       "    }\n",
       "\n",
       "    .dataframe tbody tr th {\n",
       "        vertical-align: top;\n",
       "    }\n",
       "\n",
       "    .dataframe thead th {\n",
       "        text-align: right;\n",
       "    }\n",
       "</style>\n",
       "<table border=\"1\" class=\"dataframe\">\n",
       "  <thead>\n",
       "    <tr style=\"text-align: right;\">\n",
       "      <th></th>\n",
       "      <th>donorID</th>\n",
       "      <th>campaignID</th>\n",
       "      <th>amount</th>\n",
       "      <th>date</th>\n",
       "    </tr>\n",
       "  </thead>\n",
       "  <tbody>\n",
       "    <tr>\n",
       "      <th>0</th>\n",
       "      <td>D100001</td>\n",
       "      <td>NaN</td>\n",
       "      <td>12,39</td>\n",
       "      <td>23/03/2004</td>\n",
       "    </tr>\n",
       "    <tr>\n",
       "      <th>1</th>\n",
       "      <td>D100001</td>\n",
       "      <td>1577</td>\n",
       "      <td>12,39</td>\n",
       "      <td>11/10/2007</td>\n",
       "    </tr>\n",
       "    <tr>\n",
       "      <th>2</th>\n",
       "      <td>D100001</td>\n",
       "      <td>1634</td>\n",
       "      <td>6,69</td>\n",
       "      <td>28/12/2007</td>\n",
       "    </tr>\n",
       "    <tr>\n",
       "      <th>3</th>\n",
       "      <td>D100001</td>\n",
       "      <td>1778</td>\n",
       "      <td>24,79</td>\n",
       "      <td>14/06/2008</td>\n",
       "    </tr>\n",
       "    <tr>\n",
       "      <th>4</th>\n",
       "      <td>D100001</td>\n",
       "      <td>1808</td>\n",
       "      <td>7,44</td>\n",
       "      <td>09/07/2008</td>\n",
       "    </tr>\n",
       "  </tbody>\n",
       "</table>\n",
       "</div>"
      ],
      "text/plain": [
       "   donorID campaignID amount        date\n",
       "0  D100001        NaN  12,39  23/03/2004\n",
       "1  D100001       1577  12,39  11/10/2007\n",
       "2  D100001       1634   6,69  28/12/2007\n",
       "3  D100001       1778  24,79  14/06/2008\n",
       "4  D100001       1808   7,44  09/07/2008"
      ]
     },
     "execution_count": 33,
     "metadata": {},
     "output_type": "execute_result"
    }
   ],
   "source": [
    "gifts.head()"
   ]
  },
  {
   "cell_type": "code",
   "execution_count": 34,
   "id": "9a08a6c7",
   "metadata": {},
   "outputs": [
    {
     "name": "stdout",
     "output_type": "stream",
     "text": [
      "<class 'pandas.core.frame.DataFrame'>\n",
      "RangeIndex: 216594 entries, 0 to 216593\n",
      "Data columns (total 4 columns):\n",
      " #   Column      Non-Null Count   Dtype \n",
      "---  ------      --------------   ----- \n",
      " 0   donorID     216594 non-null  object\n",
      " 1   campaignID  200957 non-null  object\n",
      " 2   amount      216594 non-null  object\n",
      " 3   date        216594 non-null  object\n",
      "dtypes: object(4)\n",
      "memory usage: 6.6+ MB\n"
     ]
    }
   ],
   "source": [
    "gifts.info()"
   ]
  },
  {
   "cell_type": "code",
   "execution_count": 35,
   "id": "aab522d6",
   "metadata": {},
   "outputs": [],
   "source": [
    "#Fill null values in CampaignID to 0 (outside of campaign)\n",
    "gifts['campaignID'] = gifts['campaignID'].fillna(0) # All donations outside of campaigns will be zero\n",
    "# gifts['campaignID'] = gifts['campaignID'].astype(int)"
   ]
  },
  {
   "cell_type": "code",
   "execution_count": 36,
   "id": "74bb726f",
   "metadata": {},
   "outputs": [
    {
     "name": "stdout",
     "output_type": "stream",
     "text": [
      "<class 'pandas.core.frame.DataFrame'>\n",
      "RangeIndex: 216594 entries, 0 to 216593\n",
      "Data columns (total 4 columns):\n",
      " #   Column      Non-Null Count   Dtype \n",
      "---  ------      --------------   ----- \n",
      " 0   donorID     216594 non-null  object\n",
      " 1   campaignID  216594 non-null  object\n",
      " 2   amount      216594 non-null  object\n",
      " 3   date        216594 non-null  object\n",
      "dtypes: object(4)\n",
      "memory usage: 6.6+ MB\n"
     ]
    }
   ],
   "source": [
    "gifts.info()"
   ]
  },
  {
   "cell_type": "code",
   "execution_count": 37,
   "id": "c8e53269",
   "metadata": {},
   "outputs": [],
   "source": [
    "#Change date column to pd.datetime\n",
    "\n",
    "gifts['date'] = pd.to_datetime(gifts['date'])"
   ]
  },
  {
   "cell_type": "code",
   "execution_count": 38,
   "id": "6936b0aa",
   "metadata": {},
   "outputs": [
    {
     "data": {
      "text/plain": [
       "donorID               object\n",
       "campaignID            object\n",
       "amount                object\n",
       "date          datetime64[ns]\n",
       "dtype: object"
      ]
     },
     "execution_count": 38,
     "metadata": {},
     "output_type": "execute_result"
    }
   ],
   "source": [
    "gifts.dtypes"
   ]
  },
  {
   "cell_type": "code",
   "execution_count": 39,
   "id": "a738d353",
   "metadata": {},
   "outputs": [
    {
     "name": "stdout",
     "output_type": "stream",
     "text": [
      "        donorID campaignID                  amount       date\n",
      "6360    D100778       1556  16,432,000,000,000,000 2007-10-09\n",
      "16715   D101892          0   5,044,600,000,000,000 2000-11-22\n",
      "28595   D103120          0  12,895,999,999,999,900 2006-03-24\n",
      "30550   D103291        850   5,044,600,000,000,000 2005-10-15\n",
      "33916   D103651       1933  11,595,999,999,999,900 2008-04-12\n",
      "35879   D103890       1755  32,486,999,999,999,900 2008-12-05\n",
      "49064   D105463          0  48,333,999,999,999,900 2003-11-24\n",
      "53730   D106008          0  48,333,999,999,999,900 2006-04-05\n",
      "56480   D106396          0  48,333,999,999,999,900 2001-03-20\n",
      "56483   D106396          0  48,333,999,999,999,900 2002-05-31\n",
      "56484   D106396          0  48,333,999,999,999,900 2002-10-22\n",
      "63858   D107405          0  27,269,000,000,000,000 2006-07-11\n",
      "78963   D109523          0  32,239,999,999,999,900 2005-03-28\n",
      "90746   D111152          0  13,629,000,000,000,000 2003-08-18\n",
      "92768   D111559       1778   6,445,269,999,999,990 2008-07-06\n",
      "112525  D115119          0  27,269,000,000,000,000 2006-04-30\n",
      "124568  D117401          0  54,538,000,000,000,000 2006-03-25\n",
      "128078  D118002          0  13,629,000,000,000,000 2006-06-04\n",
      "139335  D120368          0  21,056,099,999,999,900 2006-10-18\n",
      "139336  D120368          0  21,056,099,999,999,900 2006-03-12\n",
      "172552  D128000       7005  65,779,999,999,999,900 2019-07-01\n",
      "197762  D135598       3249   6,612,100,000,000,000 2012-07-26\n",
      "216264  D144623          0  64,479,999,999,999,900 2007-08-06\n"
     ]
    }
   ],
   "source": [
    "# Identify values with multiple commas --> INVALID DATA\n",
    "\n",
    "multiple_commas = gifts[gifts['amount'].str.contains(r',.*,')]\n",
    "print(multiple_commas)"
   ]
  },
  {
   "cell_type": "code",
   "execution_count": 40,
   "id": "07fd01b0",
   "metadata": {},
   "outputs": [
    {
     "data": {
      "text/plain": [
       "0.010618946046520217"
      ]
     },
     "execution_count": 40,
     "metadata": {},
     "output_type": "execute_result"
    }
   ],
   "source": [
    "len(multiple_commas)/ len(gifts['amount']) *100"
   ]
  },
  {
   "cell_type": "code",
   "execution_count": 41,
   "id": "f12926f7",
   "metadata": {},
   "outputs": [],
   "source": [
    "gifts = gifts.drop(multiple_commas.index)"
   ]
  },
  {
   "cell_type": "code",
   "execution_count": 42,
   "id": "4eeb1ef9",
   "metadata": {},
   "outputs": [],
   "source": [
    "# transform amount column to correct format and float type\n",
    "\n",
    "gifts['amount'] = gifts['amount'].str.replace(\",\",\".\")\n",
    "gifts['amount'] = gifts['amount'].astype(float)"
   ]
  },
  {
   "cell_type": "code",
   "execution_count": 43,
   "id": "52170def",
   "metadata": {},
   "outputs": [
    {
     "data": {
      "text/plain": [
       "0       15621\n",
       "4137     4020\n",
       "1739     2824\n",
       "3049     2022\n",
       "2714     1946\n",
       "        ...  \n",
       "7356        1\n",
       "574         1\n",
       "1153        1\n",
       "476         1\n",
       "6924        1\n",
       "Name: campaignID, Length: 368, dtype: int64"
      ]
     },
     "execution_count": 43,
     "metadata": {},
     "output_type": "execute_result"
    }
   ],
   "source": [
    "gifts['campaignID'].value_counts()"
   ]
  },
  {
   "cell_type": "code",
   "execution_count": 70,
   "id": "b4dc1fca",
   "metadata": {},
   "outputs": [],
   "source": [
    "from datetime import datetime, timedelta\n",
    "from dateutil.relativedelta import relativedelta\n",
    "\n",
    "# Assuming 'date' is the name of your date column in the 'gifts' DataFrame\n",
    "gifts['date'] = pd.to_datetime(gifts['date'])\n",
    "\n",
    "# Define the time window for each dataset\n",
    "time_window = relativedelta(years=5)\n",
    "\n",
    "# Drop dates of campaigns\n",
    "drop_train = pd.to_datetime('2018-09-04')\n",
    "drop_test = pd.to_datetime('2019-06-18')\n",
    "drop_score = pd.to_datetime('2020-02-01')\n",
    "\n",
    "# Define the gap period: 2 weeks\n",
    "gap_period = timedelta(days=14)\n",
    "\n",
    "# Calculate the cutoff dates\n",
    "cutoff_date_train = drop_train - gap_period\n",
    "cutoff_date_test = drop_test - gap_period\n",
    "cutoff_date_score = drop_score - gap_period\n",
    "\n",
    "# Filter the datasets based on a fixed starting date: 5 years time window\n",
    "gifts_train_start_period = cutoff_date_train - time_window\n",
    "gifts_test_start_period = cutoff_date_test - time_window\n",
    "gifts_score_start_period = cutoff_date_score - time_window\n",
    "\n",
    "# Filter the datasets based on the conditions\n",
    "gifts_train = gifts[(gifts['date'] >= gifts_train_start_period) & (gifts['date'] <= cutoff_date_train)]\n",
    "gifts_test = gifts[(gifts['date'] >= gifts_test_start_period) & (gifts['date'] <= cutoff_date_test)]\n",
    "gifts_score = gifts[(gifts['date'] >= gifts_score_start_period) & (gifts['date'] <= cutoff_date_score)]\n"
   ]
  },
  {
   "cell_type": "code",
   "execution_count": 72,
   "id": "7209e03c",
   "metadata": {},
   "outputs": [
    {
     "data": {
      "text/html": [
       "<div>\n",
       "<style scoped>\n",
       "    .dataframe tbody tr th:only-of-type {\n",
       "        vertical-align: middle;\n",
       "    }\n",
       "\n",
       "    .dataframe tbody tr th {\n",
       "        vertical-align: top;\n",
       "    }\n",
       "\n",
       "    .dataframe thead th {\n",
       "        text-align: right;\n",
       "    }\n",
       "</style>\n",
       "<table border=\"1\" class=\"dataframe\">\n",
       "  <thead>\n",
       "    <tr style=\"text-align: right;\">\n",
       "      <th></th>\n",
       "      <th>donorID</th>\n",
       "      <th>campaignID</th>\n",
       "      <th>amount</th>\n",
       "      <th>date</th>\n",
       "    </tr>\n",
       "  </thead>\n",
       "  <tbody>\n",
       "    <tr>\n",
       "      <th>125230</th>\n",
       "      <td>D117527</td>\n",
       "      <td>3545</td>\n",
       "      <td>30.0</td>\n",
       "      <td>2013-08-21</td>\n",
       "    </tr>\n",
       "    <tr>\n",
       "      <th>156579</th>\n",
       "      <td>D124001</td>\n",
       "      <td>3545</td>\n",
       "      <td>50.0</td>\n",
       "      <td>2013-08-21</td>\n",
       "    </tr>\n",
       "    <tr>\n",
       "      <th>40000</th>\n",
       "      <td>D104418</td>\n",
       "      <td>3546</td>\n",
       "      <td>30.0</td>\n",
       "      <td>2013-08-21</td>\n",
       "    </tr>\n",
       "    <tr>\n",
       "      <th>29090</th>\n",
       "      <td>D103147</td>\n",
       "      <td>3545</td>\n",
       "      <td>15.0</td>\n",
       "      <td>2013-08-21</td>\n",
       "    </tr>\n",
       "    <tr>\n",
       "      <th>91822</th>\n",
       "      <td>D111366</td>\n",
       "      <td>3545</td>\n",
       "      <td>30.0</td>\n",
       "      <td>2013-08-21</td>\n",
       "    </tr>\n",
       "    <tr>\n",
       "      <th>...</th>\n",
       "      <td>...</td>\n",
       "      <td>...</td>\n",
       "      <td>...</td>\n",
       "      <td>...</td>\n",
       "    </tr>\n",
       "    <tr>\n",
       "      <th>96788</th>\n",
       "      <td>D112272</td>\n",
       "      <td>5449</td>\n",
       "      <td>50.0</td>\n",
       "      <td>2018-08-21</td>\n",
       "    </tr>\n",
       "    <tr>\n",
       "      <th>48795</th>\n",
       "      <td>D105428</td>\n",
       "      <td>5449</td>\n",
       "      <td>50.0</td>\n",
       "      <td>2018-08-21</td>\n",
       "    </tr>\n",
       "    <tr>\n",
       "      <th>1934</th>\n",
       "      <td>D100332</td>\n",
       "      <td>5449</td>\n",
       "      <td>41.0</td>\n",
       "      <td>2018-08-21</td>\n",
       "    </tr>\n",
       "    <tr>\n",
       "      <th>45573</th>\n",
       "      <td>D105067</td>\n",
       "      <td>5449</td>\n",
       "      <td>50.0</td>\n",
       "      <td>2018-08-21</td>\n",
       "    </tr>\n",
       "    <tr>\n",
       "      <th>206160</th>\n",
       "      <td>D138873</td>\n",
       "      <td>5449</td>\n",
       "      <td>40.0</td>\n",
       "      <td>2018-08-21</td>\n",
       "    </tr>\n",
       "  </tbody>\n",
       "</table>\n",
       "<p>42567 rows × 4 columns</p>\n",
       "</div>"
      ],
      "text/plain": [
       "        donorID campaignID  amount       date\n",
       "125230  D117527       3545    30.0 2013-08-21\n",
       "156579  D124001       3545    50.0 2013-08-21\n",
       "40000   D104418       3546    30.0 2013-08-21\n",
       "29090   D103147       3545    15.0 2013-08-21\n",
       "91822   D111366       3545    30.0 2013-08-21\n",
       "...         ...        ...     ...        ...\n",
       "96788   D112272       5449    50.0 2018-08-21\n",
       "48795   D105428       5449    50.0 2018-08-21\n",
       "1934    D100332       5449    41.0 2018-08-21\n",
       "45573   D105067       5449    50.0 2018-08-21\n",
       "206160  D138873       5449    40.0 2018-08-21\n",
       "\n",
       "[42567 rows x 4 columns]"
      ]
     },
     "execution_count": 72,
     "metadata": {},
     "output_type": "execute_result"
    }
   ],
   "source": [
    "gifts_train.sort_values(by='date')"
   ]
  },
  {
   "cell_type": "code",
   "execution_count": 68,
   "id": "6116da32",
   "metadata": {},
   "outputs": [
    {
     "data": {
      "text/plain": [
       "Timestamp('2013-08-21 00:00:00')"
      ]
     },
     "execution_count": 68,
     "metadata": {},
     "output_type": "execute_result"
    }
   ],
   "source": [
    "gifts_train_start_period"
   ]
  },
  {
   "cell_type": "code",
   "execution_count": 45,
   "id": "98efa72f",
   "metadata": {},
   "outputs": [
    {
     "data": {
      "text/plain": [
       "Timestamp('2018-08-21 00:00:00')"
      ]
     },
     "execution_count": 45,
     "metadata": {},
     "output_type": "execute_result"
    }
   ],
   "source": [
    "cutoff_date_train"
   ]
  },
  {
   "cell_type": "code",
   "execution_count": 46,
   "id": "3b902fdc",
   "metadata": {},
   "outputs": [
    {
     "data": {
      "text/plain": [
       "Timestamp('2019-06-04 00:00:00')"
      ]
     },
     "execution_count": 46,
     "metadata": {},
     "output_type": "execute_result"
    }
   ],
   "source": [
    "cutoff_date_test"
   ]
  },
  {
   "cell_type": "code",
   "execution_count": 47,
   "id": "4dd4ecb8",
   "metadata": {},
   "outputs": [
    {
     "data": {
      "text/plain": [
       "Timestamp('2020-01-18 00:00:00')"
      ]
     },
     "execution_count": 47,
     "metadata": {},
     "output_type": "execute_result"
    }
   ],
   "source": [
    "cutoff_date_score"
   ]
  },
  {
   "cell_type": "code",
   "execution_count": 48,
   "id": "226a7e28",
   "metadata": {},
   "outputs": [
    {
     "name": "stdout",
     "output_type": "stream",
     "text": [
      "<class 'pandas.core.frame.DataFrame'>\n",
      "Int64Index: 42567 entries, 12 to 216590\n",
      "Data columns (total 4 columns):\n",
      " #   Column      Non-Null Count  Dtype         \n",
      "---  ------      --------------  -----         \n",
      " 0   donorID     42567 non-null  object        \n",
      " 1   campaignID  42567 non-null  object        \n",
      " 2   amount      42567 non-null  float64       \n",
      " 3   date        42567 non-null  datetime64[ns]\n",
      "dtypes: datetime64[ns](1), float64(1), object(2)\n",
      "memory usage: 1.6+ MB\n"
     ]
    }
   ],
   "source": [
    "gifts_train.info()"
   ]
  },
  {
   "cell_type": "code",
   "execution_count": 49,
   "id": "b9afda80",
   "metadata": {},
   "outputs": [
    {
     "data": {
      "text/plain": [
       "Timestamp('2018-08-21 00:00:00')"
      ]
     },
     "execution_count": 49,
     "metadata": {},
     "output_type": "execute_result"
    }
   ],
   "source": [
    "# Check if the time window is right (drop_date - 14 days)\n",
    "\n",
    "gifts_train['date'].max()"
   ]
  },
  {
   "cell_type": "code",
   "execution_count": 50,
   "id": "913c2dd5",
   "metadata": {},
   "outputs": [
    {
     "data": {
      "text/html": [
       "<div>\n",
       "<style scoped>\n",
       "    .dataframe tbody tr th:only-of-type {\n",
       "        vertical-align: middle;\n",
       "    }\n",
       "\n",
       "    .dataframe tbody tr th {\n",
       "        vertical-align: top;\n",
       "    }\n",
       "\n",
       "    .dataframe thead th {\n",
       "        text-align: right;\n",
       "    }\n",
       "</style>\n",
       "<table border=\"1\" class=\"dataframe\">\n",
       "  <thead>\n",
       "    <tr style=\"text-align: right;\">\n",
       "      <th></th>\n",
       "      <th>donorID</th>\n",
       "      <th>campaignID</th>\n",
       "      <th>amount</th>\n",
       "      <th>date</th>\n",
       "    </tr>\n",
       "  </thead>\n",
       "  <tbody>\n",
       "    <tr>\n",
       "      <th>128648</th>\n",
       "      <td>D118161</td>\n",
       "      <td>7244</td>\n",
       "      <td>50.0</td>\n",
       "      <td>2019-01-07</td>\n",
       "    </tr>\n",
       "    <tr>\n",
       "      <th>197726</th>\n",
       "      <td>D135588</td>\n",
       "      <td>7244</td>\n",
       "      <td>80.0</td>\n",
       "      <td>2019-01-07</td>\n",
       "    </tr>\n",
       "    <tr>\n",
       "      <th>178361</th>\n",
       "      <td>D129560</td>\n",
       "      <td>7244</td>\n",
       "      <td>100.0</td>\n",
       "      <td>2019-01-07</td>\n",
       "    </tr>\n",
       "    <tr>\n",
       "      <th>32927</th>\n",
       "      <td>D103550</td>\n",
       "      <td>7244</td>\n",
       "      <td>20.0</td>\n",
       "      <td>2019-01-07</td>\n",
       "    </tr>\n",
       "    <tr>\n",
       "      <th>205325</th>\n",
       "      <td>D138414</td>\n",
       "      <td>7244</td>\n",
       "      <td>4.0</td>\n",
       "      <td>2019-01-07</td>\n",
       "    </tr>\n",
       "    <tr>\n",
       "      <th>...</th>\n",
       "      <td>...</td>\n",
       "      <td>...</td>\n",
       "      <td>...</td>\n",
       "      <td>...</td>\n",
       "    </tr>\n",
       "    <tr>\n",
       "      <th>198997</th>\n",
       "      <td>D135983</td>\n",
       "      <td>7244</td>\n",
       "      <td>40.0</td>\n",
       "      <td>2019-08-07</td>\n",
       "    </tr>\n",
       "    <tr>\n",
       "      <th>208340</th>\n",
       "      <td>D140364</td>\n",
       "      <td>7244</td>\n",
       "      <td>80.0</td>\n",
       "      <td>2019-08-07</td>\n",
       "    </tr>\n",
       "    <tr>\n",
       "      <th>142519</th>\n",
       "      <td>D121011</td>\n",
       "      <td>7244</td>\n",
       "      <td>20.0</td>\n",
       "      <td>2019-08-07</td>\n",
       "    </tr>\n",
       "    <tr>\n",
       "      <th>115805</th>\n",
       "      <td>D115779</td>\n",
       "      <td>7244</td>\n",
       "      <td>5.0</td>\n",
       "      <td>2019-08-07</td>\n",
       "    </tr>\n",
       "    <tr>\n",
       "      <th>73633</th>\n",
       "      <td>D108748</td>\n",
       "      <td>7244</td>\n",
       "      <td>20.0</td>\n",
       "      <td>2019-08-07</td>\n",
       "    </tr>\n",
       "  </tbody>\n",
       "</table>\n",
       "<p>361 rows × 4 columns</p>\n",
       "</div>"
      ],
      "text/plain": [
       "        donorID campaignID  amount       date\n",
       "128648  D118161       7244    50.0 2019-01-07\n",
       "197726  D135588       7244    80.0 2019-01-07\n",
       "178361  D129560       7244   100.0 2019-01-07\n",
       "32927   D103550       7244    20.0 2019-01-07\n",
       "205325  D138414       7244     4.0 2019-01-07\n",
       "...         ...        ...     ...        ...\n",
       "198997  D135983       7244    40.0 2019-08-07\n",
       "208340  D140364       7244    80.0 2019-08-07\n",
       "142519  D121011       7244    20.0 2019-08-07\n",
       "115805  D115779       7244     5.0 2019-08-07\n",
       "73633   D108748       7244    20.0 2019-08-07\n",
       "\n",
       "[361 rows x 4 columns]"
      ]
     },
     "execution_count": 50,
     "metadata": {},
     "output_type": "execute_result"
    }
   ],
   "source": [
    "# Check the time period of donations for the test campaign\n",
    "\n",
    "gifts[gifts['campaignID']=='7244'].sort_values(by='date', ascending=True)"
   ]
  },
  {
   "cell_type": "code",
   "execution_count": 51,
   "id": "561eafc2",
   "metadata": {},
   "outputs": [
    {
     "data": {
      "text/plain": [
       "date\n",
       "2019-01-07    18\n",
       "2019-02-07    20\n",
       "2019-03-07    18\n",
       "2019-04-07    19\n",
       "2019-05-07    24\n",
       "dtype: int64"
      ]
     },
     "execution_count": 51,
     "metadata": {},
     "output_type": "execute_result"
    }
   ],
   "source": [
    "# Check the dates distribution of donations for our training campaign\n",
    "\n",
    "gifts_test[gifts_test['campaignID']=='7244'].value_counts('date', sort=False)"
   ]
  },
  {
   "cell_type": "code",
   "execution_count": 52,
   "id": "e51fccfe",
   "metadata": {},
   "outputs": [
    {
     "data": {
      "text/html": [
       "<div>\n",
       "<style scoped>\n",
       "    .dataframe tbody tr th:only-of-type {\n",
       "        vertical-align: middle;\n",
       "    }\n",
       "\n",
       "    .dataframe tbody tr th {\n",
       "        vertical-align: top;\n",
       "    }\n",
       "\n",
       "    .dataframe thead th {\n",
       "        text-align: right;\n",
       "    }\n",
       "</style>\n",
       "<table border=\"1\" class=\"dataframe\">\n",
       "  <thead>\n",
       "    <tr style=\"text-align: right;\">\n",
       "      <th></th>\n",
       "      <th>donorID</th>\n",
       "      <th>campaignID</th>\n",
       "      <th>amount</th>\n",
       "      <th>date</th>\n",
       "    </tr>\n",
       "  </thead>\n",
       "  <tbody>\n",
       "    <tr>\n",
       "      <th>48638</th>\n",
       "      <td>D105417</td>\n",
       "      <td>6169</td>\n",
       "      <td>6.0</td>\n",
       "      <td>2018-06-09</td>\n",
       "    </tr>\n",
       "    <tr>\n",
       "      <th>170162</th>\n",
       "      <td>D127370</td>\n",
       "      <td>6169</td>\n",
       "      <td>75.0</td>\n",
       "      <td>2018-06-09</td>\n",
       "    </tr>\n",
       "    <tr>\n",
       "      <th>198641</th>\n",
       "      <td>D135868</td>\n",
       "      <td>6169</td>\n",
       "      <td>120.0</td>\n",
       "      <td>2018-06-09</td>\n",
       "    </tr>\n",
       "    <tr>\n",
       "      <th>130506</th>\n",
       "      <td>D118609</td>\n",
       "      <td>6169</td>\n",
       "      <td>150.0</td>\n",
       "      <td>2018-06-09</td>\n",
       "    </tr>\n",
       "    <tr>\n",
       "      <th>121346</th>\n",
       "      <td>D116800</td>\n",
       "      <td>6169</td>\n",
       "      <td>30.0</td>\n",
       "      <td>2018-06-09</td>\n",
       "    </tr>\n",
       "    <tr>\n",
       "      <th>...</th>\n",
       "      <td>...</td>\n",
       "      <td>...</td>\n",
       "      <td>...</td>\n",
       "      <td>...</td>\n",
       "    </tr>\n",
       "    <tr>\n",
       "      <th>35331</th>\n",
       "      <td>D103826</td>\n",
       "      <td>6169</td>\n",
       "      <td>120.0</td>\n",
       "      <td>2018-12-09</td>\n",
       "    </tr>\n",
       "    <tr>\n",
       "      <th>71591</th>\n",
       "      <td>D108502</td>\n",
       "      <td>6169</td>\n",
       "      <td>120.0</td>\n",
       "      <td>2018-12-09</td>\n",
       "    </tr>\n",
       "    <tr>\n",
       "      <th>164995</th>\n",
       "      <td>D126070</td>\n",
       "      <td>6169</td>\n",
       "      <td>45.0</td>\n",
       "      <td>2018-12-09</td>\n",
       "    </tr>\n",
       "    <tr>\n",
       "      <th>131911</th>\n",
       "      <td>D118900</td>\n",
       "      <td>6169</td>\n",
       "      <td>123.0</td>\n",
       "      <td>2018-12-09</td>\n",
       "    </tr>\n",
       "    <tr>\n",
       "      <th>153135</th>\n",
       "      <td>D123201</td>\n",
       "      <td>6169</td>\n",
       "      <td>120.0</td>\n",
       "      <td>2018-12-09</td>\n",
       "    </tr>\n",
       "  </tbody>\n",
       "</table>\n",
       "<p>1191 rows × 4 columns</p>\n",
       "</div>"
      ],
      "text/plain": [
       "        donorID campaignID  amount       date\n",
       "48638   D105417       6169     6.0 2018-06-09\n",
       "170162  D127370       6169    75.0 2018-06-09\n",
       "198641  D135868       6169   120.0 2018-06-09\n",
       "130506  D118609       6169   150.0 2018-06-09\n",
       "121346  D116800       6169    30.0 2018-06-09\n",
       "...         ...        ...     ...        ...\n",
       "35331   D103826       6169   120.0 2018-12-09\n",
       "71591   D108502       6169   120.0 2018-12-09\n",
       "164995  D126070       6169    45.0 2018-12-09\n",
       "131911  D118900       6169   123.0 2018-12-09\n",
       "153135  D123201       6169   120.0 2018-12-09\n",
       "\n",
       "[1191 rows x 4 columns]"
      ]
     },
     "execution_count": 52,
     "metadata": {},
     "output_type": "execute_result"
    }
   ],
   "source": [
    "gifts[gifts['campaignID']=='6169'].sort_values(by='date', ascending=True)"
   ]
  },
  {
   "cell_type": "code",
   "execution_count": 53,
   "id": "b97929c9",
   "metadata": {},
   "outputs": [
    {
     "data": {
      "text/html": [
       "<div>\n",
       "<style scoped>\n",
       "    .dataframe tbody tr th:only-of-type {\n",
       "        vertical-align: middle;\n",
       "    }\n",
       "\n",
       "    .dataframe tbody tr th {\n",
       "        vertical-align: top;\n",
       "    }\n",
       "\n",
       "    .dataframe thead th {\n",
       "        text-align: right;\n",
       "    }\n",
       "</style>\n",
       "<table border=\"1\" class=\"dataframe\">\n",
       "  <thead>\n",
       "    <tr style=\"text-align: right;\">\n",
       "      <th></th>\n",
       "      <th>donorID</th>\n",
       "      <th>campaignID</th>\n",
       "      <th>amount</th>\n",
       "      <th>date</th>\n",
       "    </tr>\n",
       "  </thead>\n",
       "  <tbody>\n",
       "  </tbody>\n",
       "</table>\n",
       "</div>"
      ],
      "text/plain": [
       "Empty DataFrame\n",
       "Columns: [donorID, campaignID, amount, date]\n",
       "Index: []"
      ]
     },
     "execution_count": 53,
     "metadata": {},
     "output_type": "execute_result"
    }
   ],
   "source": [
    "# Check if some donors have given twice or more for this campaign\n",
    "\n",
    "duplicates_subset = gifts[gifts['campaignID'] == '6169'][gifts[gifts['campaignID'] == '6169'].duplicated(subset=['donorID'], keep=False)]\n",
    "duplicates_subset"
   ]
  },
  {
   "cell_type": "code",
   "execution_count": 54,
   "id": "45972196",
   "metadata": {},
   "outputs": [
    {
     "data": {
      "text/plain": [
       "date\n",
       "2018-06-09    5.205709\n",
       "2018-07-09    4.701931\n",
       "2018-08-09    5.541562\n",
       "2018-09-09    5.121746\n",
       "2018-09-13    5.541562\n",
       "2018-09-14    4.785894\n",
       "2018-09-15    5.793451\n",
       "2018-09-16    5.373636\n",
       "2018-09-17    5.037783\n",
       "2018-09-18    5.541562\n",
       "2018-09-19    5.037783\n",
       "2018-09-20    5.373636\n",
       "2018-09-21    6.549118\n",
       "2018-09-22    5.205709\n",
       "2018-09-23    5.961377\n",
       "2018-09-24    4.869857\n",
       "2018-10-09    4.785894\n",
       "2018-11-09    4.534005\n",
       "2018-12-09    5.037783\n",
       "dtype: float64"
      ]
     },
     "execution_count": 54,
     "metadata": {},
     "output_type": "execute_result"
    }
   ],
   "source": [
    "gifts[gifts['campaignID']=='6169'].value_counts('date', sort=False, normalize=True) * 100"
   ]
  },
  {
   "cell_type": "code",
   "execution_count": 55,
   "id": "84033205",
   "metadata": {},
   "outputs": [
    {
     "data": {
      "text/plain": [
       "date\n",
       "2018-06-09    62\n",
       "2018-07-09    56\n",
       "2018-08-09    66\n",
       "dtype: int64"
      ]
     },
     "execution_count": 55,
     "metadata": {},
     "output_type": "execute_result"
    }
   ],
   "source": [
    "# Check the dates distribution of donations for our training campaign\n",
    "\n",
    "gifts_train[gifts_train['campaignID']=='6169'].value_counts('date', sort=False)"
   ]
  },
  {
   "cell_type": "code",
   "execution_count": 56,
   "id": "9086064b",
   "metadata": {},
   "outputs": [
    {
     "data": {
      "text/html": [
       "<div>\n",
       "<style scoped>\n",
       "    .dataframe tbody tr th:only-of-type {\n",
       "        vertical-align: middle;\n",
       "    }\n",
       "\n",
       "    .dataframe tbody tr th {\n",
       "        vertical-align: top;\n",
       "    }\n",
       "\n",
       "    .dataframe thead th {\n",
       "        text-align: right;\n",
       "    }\n",
       "</style>\n",
       "<table border=\"1\" class=\"dataframe\">\n",
       "  <thead>\n",
       "    <tr style=\"text-align: right;\">\n",
       "      <th></th>\n",
       "      <th>donorID</th>\n",
       "      <th>campaignID</th>\n",
       "      <th>amount</th>\n",
       "      <th>date</th>\n",
       "    </tr>\n",
       "  </thead>\n",
       "  <tbody>\n",
       "    <tr>\n",
       "      <th>6158</th>\n",
       "      <td>D100745</td>\n",
       "      <td>6169</td>\n",
       "      <td>30.0</td>\n",
       "      <td>2018-08-09</td>\n",
       "    </tr>\n",
       "    <tr>\n",
       "      <th>6410</th>\n",
       "      <td>D100778</td>\n",
       "      <td>6169</td>\n",
       "      <td>60.0</td>\n",
       "      <td>2018-07-09</td>\n",
       "    </tr>\n",
       "    <tr>\n",
       "      <th>6449</th>\n",
       "      <td>D100781</td>\n",
       "      <td>6169</td>\n",
       "      <td>15.0</td>\n",
       "      <td>2018-08-09</td>\n",
       "    </tr>\n",
       "    <tr>\n",
       "      <th>11749</th>\n",
       "      <td>D101344</td>\n",
       "      <td>6169</td>\n",
       "      <td>75.0</td>\n",
       "      <td>2018-07-09</td>\n",
       "    </tr>\n",
       "    <tr>\n",
       "      <th>11773</th>\n",
       "      <td>D101347</td>\n",
       "      <td>6169</td>\n",
       "      <td>120.0</td>\n",
       "      <td>2018-08-09</td>\n",
       "    </tr>\n",
       "    <tr>\n",
       "      <th>...</th>\n",
       "      <td>...</td>\n",
       "      <td>...</td>\n",
       "      <td>...</td>\n",
       "      <td>...</td>\n",
       "    </tr>\n",
       "    <tr>\n",
       "      <th>211376</th>\n",
       "      <td>D142168</td>\n",
       "      <td>6169</td>\n",
       "      <td>15.0</td>\n",
       "      <td>2018-08-09</td>\n",
       "    </tr>\n",
       "    <tr>\n",
       "      <th>211455</th>\n",
       "      <td>D142177</td>\n",
       "      <td>6169</td>\n",
       "      <td>30.0</td>\n",
       "      <td>2018-07-09</td>\n",
       "    </tr>\n",
       "    <tr>\n",
       "      <th>214780</th>\n",
       "      <td>D144356</td>\n",
       "      <td>6169</td>\n",
       "      <td>6.0</td>\n",
       "      <td>2018-06-09</td>\n",
       "    </tr>\n",
       "    <tr>\n",
       "      <th>215701</th>\n",
       "      <td>D144479</td>\n",
       "      <td>6169</td>\n",
       "      <td>60.0</td>\n",
       "      <td>2018-07-09</td>\n",
       "    </tr>\n",
       "    <tr>\n",
       "      <th>216590</th>\n",
       "      <td>D281770</td>\n",
       "      <td>6169</td>\n",
       "      <td>30.0</td>\n",
       "      <td>2018-08-09</td>\n",
       "    </tr>\n",
       "  </tbody>\n",
       "</table>\n",
       "<p>184 rows × 4 columns</p>\n",
       "</div>"
      ],
      "text/plain": [
       "        donorID campaignID  amount       date\n",
       "6158    D100745       6169    30.0 2018-08-09\n",
       "6410    D100778       6169    60.0 2018-07-09\n",
       "6449    D100781       6169    15.0 2018-08-09\n",
       "11749   D101344       6169    75.0 2018-07-09\n",
       "11773   D101347       6169   120.0 2018-08-09\n",
       "...         ...        ...     ...        ...\n",
       "211376  D142168       6169    15.0 2018-08-09\n",
       "211455  D142177       6169    30.0 2018-07-09\n",
       "214780  D144356       6169     6.0 2018-06-09\n",
       "215701  D144479       6169    60.0 2018-07-09\n",
       "216590  D281770       6169    30.0 2018-08-09\n",
       "\n",
       "[184 rows x 4 columns]"
      ]
     },
     "execution_count": 56,
     "metadata": {},
     "output_type": "execute_result"
    }
   ],
   "source": [
    "# Number of donations\n",
    "\n",
    "gifts_train[gifts_train['campaignID']== '6169']"
   ]
  },
  {
   "cell_type": "code",
   "execution_count": 57,
   "id": "3622a684",
   "metadata": {},
   "outputs": [
    {
     "data": {
      "text/plain": [
       "donorID       20389\n",
       "campaignID      141\n",
       "amount          310\n",
       "date           1765\n",
       "dtype: int64"
      ]
     },
     "execution_count": 57,
     "metadata": {},
     "output_type": "execute_result"
    }
   ],
   "source": [
    "gifts_train.nunique()"
   ]
  },
  {
   "cell_type": "code",
   "execution_count": 58,
   "id": "8def2b33",
   "metadata": {},
   "outputs": [
    {
     "data": {
      "text/plain": [
       "donorID       19600\n",
       "campaignID      143\n",
       "amount          311\n",
       "date           1752\n",
       "dtype: int64"
      ]
     },
     "execution_count": 58,
     "metadata": {},
     "output_type": "execute_result"
    }
   ],
   "source": [
    "gifts_test.nunique()"
   ]
  },
  {
   "cell_type": "markdown",
   "id": "ee336e2e",
   "metadata": {},
   "source": [
    "## Campaigns"
   ]
  },
  {
   "cell_type": "code",
   "execution_count": 59,
   "id": "0bfc1482",
   "metadata": {},
   "outputs": [
    {
     "name": "stdout",
     "output_type": "stream",
     "text": [
      "<class 'pandas.core.frame.DataFrame'>\n",
      "RangeIndex: 34888 entries, 0 to 34887\n",
      "Data columns (total 1 columns):\n",
      " #   Column   Non-Null Count  Dtype \n",
      "---  ------   --------------  ----- \n",
      " 0   donorID  34888 non-null  object\n",
      "dtypes: object(1)\n",
      "memory usage: 272.7+ KB\n"
     ]
    }
   ],
   "source": [
    "selection_campaign_6169.info()"
   ]
  },
  {
   "cell_type": "code",
   "execution_count": 60,
   "id": "4c8fe332",
   "metadata": {},
   "outputs": [
    {
     "name": "stdout",
     "output_type": "stream",
     "text": [
      "<class 'pandas.core.frame.DataFrame'>\n",
      "RangeIndex: 25645 entries, 0 to 25644\n",
      "Data columns (total 1 columns):\n",
      " #   Column   Non-Null Count  Dtype \n",
      "---  ------   --------------  ----- \n",
      " 0   donorID  25645 non-null  object\n",
      "dtypes: object(1)\n",
      "memory usage: 200.5+ KB\n"
     ]
    }
   ],
   "source": [
    "selection_campaign_7244.info()"
   ]
  },
  {
   "cell_type": "code",
   "execution_count": 61,
   "id": "826e34d4",
   "metadata": {},
   "outputs": [
    {
     "data": {
      "text/plain": [
       "donorID                object\n",
       "zipcode                object\n",
       "province               object\n",
       "region                 object\n",
       "gender                 object\n",
       "language               object\n",
       "dateOfBirth    datetime64[ns]\n",
       "Age                     int64\n",
       "dtype: object"
      ]
     },
     "execution_count": 61,
     "metadata": {},
     "output_type": "execute_result"
    }
   ],
   "source": [
    "donors.dtypes"
   ]
  },
  {
   "cell_type": "code",
   "execution_count": 62,
   "id": "5add794e",
   "metadata": {},
   "outputs": [],
   "source": [
    "# Save to a pickle file using pandas\n",
    "donors.to_pickle('donors_cleaned.pkl')\n",
    "gifts.to_pickle('gifts_cleaned.pkl')\n",
    "gifts_train.to_pickle('gifts_trained_cleaned.pkl')\n",
    "gifts_test.to_pickle('gifts_test_cleaned.pkl')\n",
    "campaigns.to_pickle('campaigns_cleaned.pkl')"
   ]
  },
  {
   "cell_type": "code",
   "execution_count": null,
   "id": "c7565f8e",
   "metadata": {},
   "outputs": [],
   "source": []
  }
 ],
 "metadata": {
  "kernelspec": {
   "display_name": "Python 3 (ipykernel)",
   "language": "python",
   "name": "python3"
  },
  "language_info": {
   "codemirror_mode": {
    "name": "ipython",
    "version": 3
   },
   "file_extension": ".py",
   "mimetype": "text/x-python",
   "name": "python",
   "nbconvert_exporter": "python",
   "pygments_lexer": "ipython3",
   "version": "3.11.4"
  }
 },
 "nbformat": 4,
 "nbformat_minor": 5
}
